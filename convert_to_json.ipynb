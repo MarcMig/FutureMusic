{
 "metadata": {
  "language_info": {
   "codemirror_mode": {
    "name": "ipython",
    "version": 3
   },
   "file_extension": ".py",
   "mimetype": "text/x-python",
   "name": "python",
   "nbconvert_exporter": "python",
   "pygments_lexer": "ipython3",
   "version": "3.8.3"
  },
  "orig_nbformat": 4,
  "kernelspec": {
   "name": "python3",
   "display_name": "Python 3.8.3 32-bit"
  },
  "interpreter": {
   "hash": "6e870ad72a6121ef96de1ce30ed5f62617f1cdf611639ec98fd440c464b589bb"
  }
 },
 "nbformat": 4,
 "nbformat_minor": 2,
 "cells": [
  {
   "cell_type": "code",
   "execution_count": 1,
   "metadata": {},
   "outputs": [],
   "source": [
    "import pandas as pd"
   ]
  },
  {
   "cell_type": "code",
   "execution_count": 4,
   "metadata": {},
   "outputs": [],
   "source": [
    "df = pd.read_csv('track_urls_all.csv', usecols=[1, 2, 3, 4, 5])"
   ]
  },
  {
   "cell_type": "code",
   "execution_count": 5,
   "metadata": {},
   "outputs": [
    {
     "output_type": "execute_result",
     "data": {
      "text/plain": [
       "                                          track_name  track_id  \\\n",
       "0                                   I'm Week (Mixed)         6   \n",
       "1  Sónar Premiere: Nina Kraviz 'You Are Wrong' (P...        28   \n",
       "2       Nina Kraviz - IMPRV (The Deviant Octopus EP)        29   \n",
       "3                            I'm Week (Original Mix)        35   \n",
       "4                                    Pain In The Ass        36   \n",
       "\n",
       "                                              dl_url  artist_name  artist_id  \n",
       "0  https://joanne178972239606370.googuu.xyz/api/g...  Nina Kraviz          1  \n",
       "1  https://joanne178972239606370.googuu.xyz/api/g...  Nina Kraviz          1  \n",
       "2  https://joanne178972239606370.googuu.xyz/api/g...  Nina Kraviz          1  \n",
       "3  https://joanne178972239606370.googuu.xyz/api/g...  Nina Kraviz          1  \n",
       "4  https://joanne178972239606370.googuu.xyz/api/g...  Nina Kraviz          1  "
      ],
      "text/html": "<div>\n<style scoped>\n    .dataframe tbody tr th:only-of-type {\n        vertical-align: middle;\n    }\n\n    .dataframe tbody tr th {\n        vertical-align: top;\n    }\n\n    .dataframe thead th {\n        text-align: right;\n    }\n</style>\n<table border=\"1\" class=\"dataframe\">\n  <thead>\n    <tr style=\"text-align: right;\">\n      <th></th>\n      <th>track_name</th>\n      <th>track_id</th>\n      <th>dl_url</th>\n      <th>artist_name</th>\n      <th>artist_id</th>\n    </tr>\n  </thead>\n  <tbody>\n    <tr>\n      <th>0</th>\n      <td>I'm Week (Mixed)</td>\n      <td>6</td>\n      <td>https://joanne178972239606370.googuu.xyz/api/g...</td>\n      <td>Nina Kraviz</td>\n      <td>1</td>\n    </tr>\n    <tr>\n      <th>1</th>\n      <td>Sónar Premiere: Nina Kraviz 'You Are Wrong' (P...</td>\n      <td>28</td>\n      <td>https://joanne178972239606370.googuu.xyz/api/g...</td>\n      <td>Nina Kraviz</td>\n      <td>1</td>\n    </tr>\n    <tr>\n      <th>2</th>\n      <td>Nina Kraviz - IMPRV (The Deviant Octopus EP)</td>\n      <td>29</td>\n      <td>https://joanne178972239606370.googuu.xyz/api/g...</td>\n      <td>Nina Kraviz</td>\n      <td>1</td>\n    </tr>\n    <tr>\n      <th>3</th>\n      <td>I'm Week (Original Mix)</td>\n      <td>35</td>\n      <td>https://joanne178972239606370.googuu.xyz/api/g...</td>\n      <td>Nina Kraviz</td>\n      <td>1</td>\n    </tr>\n    <tr>\n      <th>4</th>\n      <td>Pain In The Ass</td>\n      <td>36</td>\n      <td>https://joanne178972239606370.googuu.xyz/api/g...</td>\n      <td>Nina Kraviz</td>\n      <td>1</td>\n    </tr>\n  </tbody>\n</table>\n</div>"
     },
     "metadata": {},
     "execution_count": 5
    }
   ],
   "source": [
    "df.head()"
   ]
  },
  {
   "cell_type": "code",
   "execution_count": 7,
   "metadata": {},
   "outputs": [],
   "source": [
    "df.to_json('track_urls_all.json', orient='index')"
   ]
  },
  {
   "cell_type": "code",
   "execution_count": null,
   "metadata": {},
   "outputs": [],
   "source": []
  }
 ]
}